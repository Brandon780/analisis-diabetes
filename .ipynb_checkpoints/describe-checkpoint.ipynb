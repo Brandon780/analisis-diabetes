{
 "cells": [
  {
   "cell_type": "code",
   "execution_count": 1,
   "id": "725d974e",
   "metadata": {},
   "outputs": [],
   "source": [
    "import pandas as pd\n",
    "import numpy as np\n",
    "import matplotlib.pyplot as plt\n",
    "import seaborn as sns\n"
   ]
  },
  {
   "cell_type": "code",
   "execution_count": 6,
   "id": "f316fe14",
   "metadata": {},
   "outputs": [],
   "source": [
    "\n",
    "data = pd.read_csv(\"diabetes.csv\", header=0)\n"
   ]
  },
  {
   "cell_type": "code",
   "execution_count": 7,
   "id": "156a273d",
   "metadata": {},
   "outputs": [
    {
     "name": "stdout",
     "output_type": "stream",
     "text": [
      "   Unnamed: 0    id   chol  stab.glu   hdl  ratio  glyhb    location  age  \\\n",
      "0           1  1000  203.0        82  56.0    3.6   4.31  Buckingham   46   \n",
      "1           2  1001  165.0        97  24.0    6.9   4.44  Buckingham   29   \n",
      "2           3  1002  228.0        92  37.0    6.2   4.64  Buckingham   58   \n",
      "3           4  1003   78.0        93  12.0    6.5   4.63  Buckingham   67   \n",
      "4           5  1005  249.0        90  28.0    8.9   7.72  Buckingham   64   \n",
      "\n",
      "   gender  ...  bp.1d  bp.2s bp.2d  waist   hip  time.ppn  insurance  fh  \\\n",
      "0  female  ...   59.0    NaN   NaN   29.0  38.0     720.0          1   0   \n",
      "1  female  ...   68.0    NaN   NaN   46.0  48.0     360.0          0   0   \n",
      "2  female  ...   92.0  185.0  92.0   49.0  57.0     180.0          2   0   \n",
      "3    male  ...   50.0    NaN   NaN   33.0  38.0     480.0          1   0   \n",
      "4    male  ...   80.0    NaN   NaN   44.0  41.0     300.0          0   0   \n",
      "\n",
      "   smoking   dm  \n",
      "0        3   no  \n",
      "1        2   no  \n",
      "2        2   no  \n",
      "3        3   no  \n",
      "4        3  yes  \n",
      "\n",
      "[5 rows x 24 columns]\n"
     ]
    }
   ],
   "source": [
    "print(data.head())"
   ]
  },
  {
   "cell_type": "code",
   "execution_count": 8,
   "id": "e2b8de02",
   "metadata": {},
   "outputs": [
    {
     "name": "stdout",
     "output_type": "stream",
     "text": [
      "<class 'pandas.core.frame.DataFrame'>\n",
      "RangeIndex: 403 entries, 0 to 402\n",
      "Data columns (total 24 columns):\n",
      " #   Column      Non-Null Count  Dtype  \n",
      "---  ------      --------------  -----  \n",
      " 0   Unnamed: 0  403 non-null    int64  \n",
      " 1   id          403 non-null    int64  \n",
      " 2   chol        402 non-null    float64\n",
      " 3   stab.glu    403 non-null    int64  \n",
      " 4   hdl         402 non-null    float64\n",
      " 5   ratio       402 non-null    float64\n",
      " 6   glyhb       390 non-null    float64\n",
      " 7   location    403 non-null    object \n",
      " 8   age         403 non-null    int64  \n",
      " 9   gender      403 non-null    object \n",
      " 10  height      398 non-null    float64\n",
      " 11  weight      402 non-null    float64\n",
      " 12  frame       391 non-null    object \n",
      " 13  bp.1s       398 non-null    float64\n",
      " 14  bp.1d       398 non-null    float64\n",
      " 15  bp.2s       141 non-null    float64\n",
      " 16  bp.2d       141 non-null    float64\n",
      " 17  waist       401 non-null    float64\n",
      " 18  hip         401 non-null    float64\n",
      " 19  time.ppn    400 non-null    float64\n",
      " 20  insurance   403 non-null    int64  \n",
      " 21  fh          403 non-null    int64  \n",
      " 22  smoking     403 non-null    int64  \n",
      " 23  dm          390 non-null    object \n",
      "dtypes: float64(13), int64(7), object(4)\n",
      "memory usage: 75.7+ KB\n",
      "None\n"
     ]
    }
   ],
   "source": [
    "print(data.info())"
   ]
  },
  {
   "cell_type": "code",
   "execution_count": 10,
   "id": "2b877eb2",
   "metadata": {},
   "outputs": [
    {
     "name": "stdout",
     "output_type": "stream",
     "text": [
      "       Unnamed: 0       id   chol  stab.glu    hdl  ratio  glyhb    age  \\\n",
      "count       403.0    403.0  402.0     403.0  402.0  402.0  390.0  403.0   \n",
      "mean        202.0  15978.3  207.8     106.7   50.4    4.5    5.6   46.9   \n",
      "std         116.5  11881.1   44.4      53.1   17.3    1.7    2.2   16.3   \n",
      "min           1.0   1000.0   78.0      48.0   12.0    1.5    2.7   19.0   \n",
      "25%         101.5   4792.5  179.0      81.0   38.0    3.2    4.4   34.0   \n",
      "50%         202.0  15766.0  204.0      89.0   46.0    4.2    4.8   45.0   \n",
      "75%         302.5  20336.0  230.0     106.0   59.0    5.4    5.6   60.0   \n",
      "max         403.0  41756.0  443.0     385.0  120.0   19.3   16.1   92.0   \n",
      "\n",
      "       height  weight  bp.1s  bp.1d  bp.2s  bp.2d  waist    hip  time.ppn  \\\n",
      "count   398.0   402.0  398.0  398.0  141.0  141.0  401.0  401.0     400.0   \n",
      "mean     66.0   177.6  136.9   83.3  152.4   92.5   37.9   43.0     341.2   \n",
      "std       3.9    40.3   22.7   13.6   21.7   11.6    5.7    5.7     309.5   \n",
      "min      52.0    99.0   90.0   48.0  110.0   60.0   26.0   30.0       5.0   \n",
      "25%      63.0   151.0  121.2   75.0  138.0   84.0   33.0   39.0      90.0   \n",
      "50%      66.0   172.5  136.0   82.0  149.0   92.0   37.0   42.0     240.0   \n",
      "75%      69.0   200.0  146.8   90.0  161.0  100.0   41.0   46.0     517.5   \n",
      "max      76.0   325.0  250.0  124.0  238.0  124.0   56.0   64.0    1560.0   \n",
      "\n",
      "       insurance     fh  smoking  \n",
      "count      403.0  403.0    403.0  \n",
      "mean         1.1    0.2      1.8  \n",
      "std          0.8    0.4      0.7  \n",
      "min          0.0    0.0      1.0  \n",
      "25%          0.0    0.0      1.0  \n",
      "50%          1.0    0.0      2.0  \n",
      "75%          2.0    0.0      2.0  \n",
      "max          2.0    1.0      3.0  \n"
     ]
    }
   ],
   "source": [
    "\n",
    "data_describe = data.describe().round(1)\n",
    "print(data_describe)\n"
   ]
  },
  {
   "cell_type": "code",
   "execution_count": 11,
   "id": "9ec15bf4",
   "metadata": {},
   "outputs": [
    {
     "name": "stdout",
     "output_type": "stream",
     "text": [
      "Número de filas: 403\n",
      "Número de columnas: 24\n"
     ]
    }
   ],
   "source": [
    "num_rows, num_columns = data.shape\n",
    "\n",
    "print(f\"Número de filas: {num_rows}\")\n",
    "print(f\"Número de columnas: {num_columns}\")"
   ]
  },
  {
   "cell_type": "code",
   "execution_count": 12,
   "id": "48e65215",
   "metadata": {},
   "outputs": [
    {
     "name": "stdout",
     "output_type": "stream",
     "text": [
      "['no' 'yes' nan]\n"
     ]
    }
   ],
   "source": [
    "print(data[\"dm\"].unique())"
   ]
  },
  {
   "cell_type": "code",
   "execution_count": 15,
   "id": "87167515",
   "metadata": {},
   "outputs": [
    {
     "name": "stdout",
     "output_type": "stream",
     "text": [
      "category\n"
     ]
    }
   ],
   "source": [
    "print(data[\"dm\"].dtype)"
   ]
  },
  {
   "cell_type": "code",
   "execution_count": 14,
   "id": "d4940c55",
   "metadata": {},
   "outputs": [],
   "source": [
    "data[\"dm\"] = pd.Categorical(data[\"dm\"])"
   ]
  },
  {
   "cell_type": "code",
   "execution_count": 16,
   "id": "03050561",
   "metadata": {},
   "outputs": [
    {
     "name": "stdout",
     "output_type": "stream",
     "text": [
      "['no', 'yes', NaN]\n",
      "Categories (2, object): ['no', 'yes']\n"
     ]
    }
   ],
   "source": [
    "print(data[\"dm\"].unique())"
   ]
  },
  {
   "cell_type": "code",
   "execution_count": 17,
   "id": "22bbf499",
   "metadata": {},
   "outputs": [
    {
     "name": "stdout",
     "output_type": "stream",
     "text": [
      "col_0   count\n",
      "female    234\n",
      "male      169\n",
      "Total     403\n"
     ]
    },
    {
     "name": "stderr",
     "output_type": "stream",
     "text": [
      "C:\\Users\\limco\\AppData\\Local\\Temp\\ipykernel_16468\\3544727977.py:5: FutureWarning: The frame.append method is deprecated and will be removed from pandas in a future version. Use pandas.concat instead.\n",
      "  t_with_margins = t.append(t.sum(numeric_only=True), ignore_index=True)\n"
     ]
    }
   ],
   "source": [
    "# Tabulación de la columna \"gender\"\n",
    "t = pd.crosstab(index=data[\"gender\"], columns=\"count\")\n",
    "\n",
    "# Agregar los totales\n",
    "t_with_margins = t.append(t.sum(numeric_only=True), ignore_index=True)\n",
    "t_with_margins.index = data[\"gender\"].unique().tolist() + [\"Total\"]\n",
    "\n",
    "print(t_with_margins)"
   ]
  },
  {
   "cell_type": "code",
   "execution_count": 20,
   "id": "f317bb41",
   "metadata": {},
   "outputs": [
    {
     "name": "stdout",
     "output_type": "stream",
     "text": [
      "col_0   count\n",
      "gender       \n",
      "female    0.6\n",
      "male      0.4\n"
     ]
    }
   ],
   "source": [
    "# Calcular las proporciones\n",
    "prop_table = t / t.sum()\n",
    "prop_table_rounded = prop_table.round(1)\n",
    "\n",
    "print(prop_table_rounded)"
   ]
  },
  {
   "cell_type": "code",
   "execution_count": 21,
   "id": "bc385b71",
   "metadata": {},
   "outputs": [
    {
     "name": "stdout",
     "output_type": "stream",
     "text": [
      "col_0   count\n",
      "gender       \n",
      "female   60.0\n",
      "male     40.0\n"
     ]
    }
   ],
   "source": [
    "\n",
    "print(100*prop_table_rounded)"
   ]
  },
  {
   "cell_type": "code",
   "execution_count": 24,
   "id": "146d698e",
   "metadata": {},
   "outputs": [
    {
     "name": "stdout",
     "output_type": "stream",
     "text": [
      "no     330\n",
      "yes     60\n",
      "NaN     13\n",
      "Name: dm, dtype: int64\n"
     ]
    }
   ],
   "source": [
    "data[\"dm\"] = data[\"dm\"].astype(\"category\")\n",
    "\n",
    "# Mostrar la tabla de frecuencias incluyendo los valores faltantes\n",
    "t_dm2 = data[\"dm\"].value_counts(dropna=False)\n",
    "print(t_dm2)"
   ]
  },
  {
   "cell_type": "code",
   "execution_count": 25,
   "id": "e14e6c22",
   "metadata": {},
   "outputs": [],
   "source": [
    "height = data[\"height\"]\n",
    "weight = data[\"weight\"]\n",
    "\n"
   ]
  },
  {
   "cell_type": "code",
   "execution_count": 26,
   "id": "8347951d",
   "metadata": {},
   "outputs": [
    {
     "name": "stdout",
     "output_type": "stream",
     "text": [
      "count    398.000000\n",
      "mean      66.020101\n",
      "std        3.918515\n",
      "min       52.000000\n",
      "25%       63.000000\n",
      "50%       66.000000\n",
      "75%       69.000000\n",
      "max       76.000000\n",
      "Name: height, dtype: float64\n"
     ]
    }
   ],
   "source": [
    "# Mostrar un resumen de la columna \"height\"\n",
    "print(height.describe())\n"
   ]
  },
  {
   "cell_type": "code",
   "execution_count": 27,
   "id": "c46e7cea",
   "metadata": {},
   "outputs": [
    {
     "name": "stdout",
     "output_type": "stream",
     "text": [
      "count    402.000000\n",
      "mean     177.592040\n",
      "std       40.340666\n",
      "min       99.000000\n",
      "25%      151.000000\n",
      "50%      172.500000\n",
      "75%      200.000000\n",
      "max      325.000000\n",
      "Name: weight, dtype: float64\n"
     ]
    }
   ],
   "source": [
    "\n",
    "# Mostrar un resumen de la columna \"weight\"\n",
    "print(weight.describe())"
   ]
  },
  {
   "cell_type": "code",
   "execution_count": 28,
   "id": "53f363b1",
   "metadata": {},
   "outputs": [],
   "source": [
    "from calculate_bmi_module import BMICalculator\n"
   ]
  },
  {
   "cell_type": "code",
   "execution_count": 29,
   "id": "74b74713",
   "metadata": {},
   "outputs": [],
   "source": [
    "# Crear una instancia de BMICalculator\n",
    "bmi_calculator = BMICalculator(data)"
   ]
  },
  {
   "cell_type": "code",
   "execution_count": 30,
   "id": "54e9e3b2",
   "metadata": {},
   "outputs": [
    {
     "name": "stdout",
     "output_type": "stream",
     "text": [
      "   Unnamed: 0    id   chol  stab.glu   hdl  ratio  glyhb    location  age  \\\n",
      "0           1  1000  203.0        82  56.0    3.6   4.31  Buckingham   46   \n",
      "1           2  1001  165.0        97  24.0    6.9   4.44  Buckingham   29   \n",
      "2           3  1002  228.0        92  37.0    6.2   4.64  Buckingham   58   \n",
      "3           4  1003   78.0        93  12.0    6.5   4.63  Buckingham   67   \n",
      "4           5  1005  249.0        90  28.0    8.9   7.72  Buckingham   64   \n",
      "\n",
      "   gender  ...  waist   hip time.ppn  insurance  fh  smoking   dm  height_si  \\\n",
      "0  female  ...   29.0  38.0    720.0          1   0        3   no     1.5748   \n",
      "1  female  ...   46.0  48.0    360.0          0   0        2   no     1.6256   \n",
      "2  female  ...   49.0  57.0    180.0          2   0        2   no     1.5494   \n",
      "3    male  ...   33.0  38.0    480.0          1   0        3   no     1.7018   \n",
      "4    male  ...   44.0  41.0    300.0          0   0        3  yes     1.7272   \n",
      "\n",
      "    weight_si        bmi  \n",
      "0   54.884632  22.130944  \n",
      "1   98.883056  37.419200  \n",
      "2  116.119552  48.370241  \n",
      "3   53.977448  18.637828  \n",
      "4   83.007336  27.824747  \n",
      "\n",
      "[5 rows x 27 columns]\n"
     ]
    }
   ],
   "source": [
    "# Calcular el BMI y obtener el resultado\n",
    "result = bmi_calculator.calculate_bmi()\n",
    "\n",
    "# Mostrar las primeras filas del resultado\n",
    "print(result.head())"
   ]
  },
  {
   "cell_type": "code",
   "execution_count": 31,
   "id": "3ee259ec",
   "metadata": {},
   "outputs": [
    {
     "name": "stdout",
     "output_type": "stream",
     "text": [
      "0    22.130944\n",
      "1    37.419200\n",
      "2    48.370241\n",
      "3    18.637828\n",
      "4    27.824747\n",
      "Name: bmi, dtype: float64\n"
     ]
    }
   ],
   "source": [
    "print(result['bmi'].head())"
   ]
  },
  {
   "cell_type": "code",
   "execution_count": 32,
   "id": "8c4e18aa",
   "metadata": {},
   "outputs": [],
   "source": [
    "# Definir la función de categorización\n",
    "def categorize_bmi(bmi):\n",
    "    if bmi < 18.5:\n",
    "        return \"underweight\"\n",
    "    elif 18.5 <= bmi <= 25:\n",
    "        return \"normal\"\n",
    "    elif 25 < bmi <= 30:\n",
    "        return \"overweight\"\n",
    "    elif bmi > 30:\n",
    "        return \"obese\"\n",
    "    else:\n",
    "        return None\n",
    "\n"
   ]
  },
  {
   "cell_type": "code",
   "execution_count": 33,
   "id": "62de209c",
   "metadata": {},
   "outputs": [
    {
     "name": "stdout",
     "output_type": "stream",
     "text": [
      "obese          152\n",
      "overweight     123\n",
      "normal         113\n",
      "underweight      9\n",
      "Name: bmi_categorised, dtype: int64\n"
     ]
    }
   ],
   "source": [
    "# Aplicar la función a la columna 'bmi' y crear una nueva columna 'bmi_categorised'\n",
    "result['bmi_categorised'] = result['bmi'].apply(categorize_bmi)\n",
    "\n",
    "# Obtener la tabla de frecuencias de la columna 'bmi_categorised'\n",
    "bmi_counts = result['bmi_categorised'].value_counts()\n",
    "\n",
    "# Mostrar la tabla de frecuencias\n",
    "print(bmi_counts)"
   ]
  },
  {
   "cell_type": "code",
   "execution_count": 34,
   "id": "8381e065",
   "metadata": {},
   "outputs": [],
   "source": [
    "# Realizar la tabulación cruzada de bmi_categorised y dm2\n",
    "dm_by_bmi_category = pd.crosstab(result['bmi_categorised'], result['dm'], dropna=False)\n",
    "\n",
    "# Calcular los porcentajes de fila y redondearlos a un decimal\n",
    "row_percentages = (dm_by_bmi_category.T / dm_by_bmi_category.sum(axis=1)).T * 100\n",
    "row_percentages_rounded = row_percentages.apply(lambda x: round(x, 1))\n"
   ]
  },
  {
   "cell_type": "code",
   "execution_count": 36,
   "id": "3193d09a",
   "metadata": {},
   "outputs": [
    {
     "name": "stdout",
     "output_type": "stream",
     "text": [
      "dm                no  yes\n",
      "bmi_categorised          \n",
      "normal           100    9\n",
      "obese            118   29\n",
      "overweight        99   20\n",
      "underweight        9    0\n"
     ]
    }
   ],
   "source": [
    "# Mostrar la tabulación cruzada y los porcentajes de fila redondeados\n",
    "print(dm_by_bmi_category)"
   ]
  },
  {
   "cell_type": "code",
   "execution_count": 39,
   "id": "980e6e35",
   "metadata": {},
   "outputs": [],
   "source": [
    "# Crear la variable 'age'\n",
    "age = result['age']"
   ]
  },
  {
   "cell_type": "code",
   "execution_count": 40,
   "id": "c97aff73",
   "metadata": {},
   "outputs": [],
   "source": [
    "# Crear una variable categórica 'age_grouped'\n",
    "def categorize_age(age):\n",
    "    if age < 45:\n",
    "        return \"under 45\"\n",
    "    elif 45 <= age < 65:\n",
    "        return \"45 - 64\"\n",
    "    elif 65 <= age < 75:\n",
    "        return \"65 - 74\"\n",
    "    elif age >= 75:\n",
    "        return \"75 or over\"\n",
    "    else:\n",
    "        return None\n",
    "\n",
    "age_grouped = age.apply(categorize_age)\n",
    "\n"
   ]
  },
  {
   "cell_type": "code",
   "execution_count": 42,
   "id": "668e09d6",
   "metadata": {},
   "outputs": [],
   "source": [
    "# Realizar la tabulación cruzada de 'age_grouped' y 'gender', incluyendo valores nulos\n",
    "age_group_by_gender = pd.crosstab(age_grouped, result['gender'], dropna=False)\n",
    "\n"
   ]
  },
  {
   "cell_type": "code",
   "execution_count": 43,
   "id": "3a2283a5",
   "metadata": {},
   "outputs": [],
   "source": [
    "# Calcular la proporción de la muestra total, convertir a porcentaje y redondear a 1 decimal\n",
    "percentage_table = (age_group_by_gender / age_group_by_gender.sum().sum()) * 100\n",
    "percentage_table_rounded = percentage_table.applymap(lambda x: round(x, 1))\n",
    "\n"
   ]
  },
  {
   "cell_type": "code",
   "execution_count": 44,
   "id": "cb32c58e",
   "metadata": {},
   "outputs": [
    {
     "name": "stdout",
     "output_type": "stream",
     "text": [
      "gender      female  male\n",
      "age                     \n",
      "45 - 64       18.6  15.9\n",
      "65 - 74        5.2   5.0\n",
      "75 or over     3.0   2.7\n",
      "under 45      31.3  18.4\n"
     ]
    }
   ],
   "source": [
    "# Mostrar la tabulación cruzada como proporción en porcentaje y redondeada\n",
    "print(percentage_table_rounded)"
   ]
  },
  {
   "cell_type": "code",
   "execution_count": 45,
   "id": "9ea1303a",
   "metadata": {},
   "outputs": [],
   "source": [
    "percentage_table = (age_group_by_gender / age_group_by_gender.sum().sum()) * 100\n",
    "percentage_table_rounded = percentage_table.applymap(lambda x: round(x, 1))\n",
    "\n"
   ]
  },
  {
   "cell_type": "code",
   "execution_count": 46,
   "id": "d6b9f065",
   "metadata": {},
   "outputs": [
    {
     "name": "stdout",
     "output_type": "stream",
     "text": [
      "gender      female  male\n",
      "age                     \n",
      "45 - 64       18.6  15.9\n",
      "65 - 74        5.2   5.0\n",
      "75 or over     3.0   2.7\n",
      "under 45      31.3  18.4\n"
     ]
    }
   ],
   "source": [
    "# Mostrar la tabulación cruzada como proporción en porcentaje y redondeada\n",
    "print(percentage_table_rounded)\n"
   ]
  },
  {
   "cell_type": "code",
   "execution_count": 47,
   "id": "f456078a",
   "metadata": {},
   "outputs": [
    {
     "name": "stdout",
     "output_type": "stream",
     "text": [
      "\n",
      "Tabla cruzada de edades por género en porcentaje:\n",
      "gender      female    male\n",
      "age                       \n",
      "45 - 64     1860.0  1590.0\n",
      "65 - 74      520.0   500.0\n",
      "75 or over   300.0   270.0\n",
      "under 45    3130.0  1840.0\n"
     ]
    }
   ],
   "source": [
    "\n",
    "# Mostrar la nueva tabla cruzada en porcentaje en otra ventana\n",
    "print(\"\\nTabla cruzada de edades por género en porcentaje:\")\n",
    "print(round(100 * percentage_table_rounded, 1))"
   ]
  },
  {
   "cell_type": "code",
   "execution_count": null,
   "id": "dbe2a192",
   "metadata": {},
   "outputs": [],
   "source": []
  }
 ],
 "metadata": {
  "kernelspec": {
   "display_name": "Python 3 (ipykernel)",
   "language": "python",
   "name": "python3"
  },
  "language_info": {
   "codemirror_mode": {
    "name": "ipython",
    "version": 3
   },
   "file_extension": ".py",
   "mimetype": "text/x-python",
   "name": "python",
   "nbconvert_exporter": "python",
   "pygments_lexer": "ipython3",
   "version": "3.11.3"
  }
 },
 "nbformat": 4,
 "nbformat_minor": 5
}
